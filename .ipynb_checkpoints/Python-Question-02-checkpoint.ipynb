{
 "cells": [
  {
   "cell_type": "code",
   "execution_count": null,
   "metadata": {},
   "outputs": [],
   "source": [
    "Q.2) Consider a string to be valid if all characters of the string appear the same number of times. It is also valid if\n",
    "     he can remove just one character at the index in the string, and the remaining characters will occur the same\n",
    "     number of times. Given a string, determine if it is valid. If so, return YES , otherwise return NO .\n",
    "\n",
    "Note - You have to write at least 2 additional test cases in which your program will run successfully and provide\n",
    "an explanation for the same.\n",
    "\n",
    "Example input 1 - s = “abc”. This is a valid string because frequencies are { “a”: 1, “b”: 1, “c”: 1 }\n",
    "Example output 1- YES\n",
    "\n",
    "Example input 2 - s “abcc”. This string is not valid as we can remove only 1 occurrence of “c”. That leaves\n",
    "character frequencies of { “a”: 1, “b”: 1 , “c”: 2 }\n",
    "Example output 2 - NO"
   ]
  },
  {
   "cell_type": "code",
   "execution_count": 55,
   "metadata": {},
   "outputs": [
    {
     "name": "stdout",
     "output_type": "stream",
     "text": [
      "TEST CASE - 1\n",
      "Enter string here : aaabbbccc\n",
      "{'a': 3, 'b': 3, 'c': 3}\n",
      "YES\n"
     ]
    }
   ],
   "source": [
    "# Function to check the string is valid or not against the mentioned contrainst in the question\n",
    "def check_valid_string():\n",
    "    string = input('Enter string here : ')\n",
    "    \n",
    "    chars = {}\n",
    "    \n",
    "    # converting string character into dictionary with keys as characters and values as it's frequency1\n",
    "    for s in string:\n",
    "        if s not in chars.keys():\n",
    "            chars[s] = 1\n",
    "        else:\n",
    "            chars[s] += 1\n",
    "    print(chars)\n",
    "    \n",
    "    if len(set(chars.values())) == 1:\n",
    "        return \"YES\"\n",
    "    \n",
    "    if len(set(chars.values())) == 2:\n",
    "        \n",
    "        equal_freq_count = dict().fromkeys(chars.values(),0)\n",
    "        for count in chars.values():\n",
    "            equal_freq_count[count] += 1\n",
    "        \n",
    "        print(equal_freq_count)\n",
    "        for freq,count in equal_freq_count.items():\n",
    "            if freq == 1 and count == 1:\n",
    "                return \"YES\"\n",
    "            elif freq == 1 and count != 1:\n",
    "                return \"NO\"\n",
    "            else:\n",
    "                return \"YES\"\n",
    "            \n",
    "    if len(set(chars.values())) > 2:\n",
    "        return \"NO\"\n",
    "\n",
    "print(\"TEST CASE - 1\")\n",
    "print(check_valid_string())  # Calling the function\n",
    "    "
   ]
  },
  {
   "cell_type": "markdown",
   "metadata": {},
   "source": [
    "#### In the case, we give 'aaabbbccc' as all characters are equal in number program gives 'yes'"
   ]
  },
  {
   "cell_type": "code",
   "execution_count": 57,
   "metadata": {},
   "outputs": [
    {
     "name": "stdout",
     "output_type": "stream",
     "text": [
      "TEST CASE - 2\n",
      "Enter string here : abcc\n",
      "{'a': 1, 'b': 1, 'c': 2}\n",
      "{1: 2, 2: 1}\n",
      "NO\n"
     ]
    }
   ],
   "source": [
    "print(\"TEST CASE - 2\")\n",
    "print(check_valid_string())"
   ]
  },
  {
   "cell_type": "markdown",
   "metadata": {},
   "source": [
    "#### In this case, we give 'abcc' so it doesn't fill the criteria mentioned in the question program output \"NO\""
   ]
  },
  {
   "cell_type": "code",
   "execution_count": 61,
   "metadata": {},
   "outputs": [
    {
     "name": "stdout",
     "output_type": "stream",
     "text": [
      "TEST CASE - 3\n",
      "Enter string here : aaabbbccc\n",
      "{'a': 3, 'b': 3, 'c': 3}\n",
      "YES\n"
     ]
    }
   ],
   "source": [
    "print(\"TEST CASE - 3\")\n",
    "print(check_valid_string())"
   ]
  },
  {
   "cell_type": "markdown",
   "metadata": {},
   "source": [
    "#### In this case all character have same frequency number so output \"YES\""
   ]
  },
  {
   "cell_type": "code",
   "execution_count": 62,
   "metadata": {},
   "outputs": [
    {
     "name": "stdout",
     "output_type": "stream",
     "text": [
      "TEST CASE - 4\n",
      "Enter string here : aabbc\n",
      "{'a': 2, 'b': 2, 'c': 1}\n",
      "{2: 2, 1: 1}\n",
      "YES\n"
     ]
    }
   ],
   "source": [
    "print(\"TEST CASE - 4\")\n",
    "print(check_valid_string())"
   ]
  },
  {
   "cell_type": "markdown",
   "metadata": {},
   "source": [
    "#### In this case, in string 'aabbc' if one character 'c' is removed all the other characters will be in same number so output \"YES\""
   ]
  },
  {
   "cell_type": "code",
   "execution_count": null,
   "metadata": {},
   "outputs": [],
   "source": []
  }
 ],
 "metadata": {
  "kernelspec": {
   "display_name": "Python 3",
   "language": "python",
   "name": "python3"
  },
  "language_info": {
   "codemirror_mode": {
    "name": "ipython",
    "version": 3
   },
   "file_extension": ".py",
   "mimetype": "text/x-python",
   "name": "python",
   "nbconvert_exporter": "python",
   "pygments_lexer": "ipython3",
   "version": "3.8.5"
  }
 },
 "nbformat": 4,
 "nbformat_minor": 4
}
