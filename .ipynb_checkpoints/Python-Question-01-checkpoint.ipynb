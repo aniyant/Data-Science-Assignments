{
 "cells": [
  {
   "cell_type": "code",
   "execution_count": null,
   "metadata": {},
   "outputs": [],
   "source": [
    "Q.1) Write a program that takes a string as input, and counts the frequency of each word in the string, there might\n",
    "     be repeated characters in the string. Your task is to find the highest frequency and returns the length of the\n",
    "     highest-frequency word.\n",
    "\n",
    "\n",
    "Note - You have to write at least 2 additional test cases in which your program will run successfully and provide\n",
    "an explanation for the same.\n",
    "\n",
    "Example input - string = “write write write all the number from from from 1 to 100”\n",
    "Example output - 5\n",
    "\n",
    "Explanation - From the given string we can note that the most frequent words are “write” and “from” and\n",
    "the maximum value of both the values is “write” and its corresponding length is 5\n"
   ]
  },
  {
   "cell_type": "code",
   "execution_count": 40,
   "metadata": {},
   "outputs": [
    {
     "name": "stdout",
     "output_type": "stream",
     "text": [
      "TEST CASE- 1\n",
      "Enter string : write write write all the number from from from 1 to 100\n",
      "{'write': 3, 'all': 1, 'the': 1, 'number': 1, 'from': 3, '1': 1, 'to': 1, '100': 1} \n",
      "\n",
      "lenght of most frequent word :  5\n"
     ]
    }
   ],
   "source": [
    "# Function which counts the length of the highest frequent word in the string\n",
    "def length_of_highest_frequency_word():\n",
    "    \n",
    "    string = input(\"Enter string : \")\n",
    "\n",
    "    words = string.split(' ')\n",
    "\n",
    "\n",
    "    words_count = dict().fromkeys(words,0)\n",
    "\n",
    "    for w in words:\n",
    "        words_count[w] += 1\n",
    "\n",
    "    print(words_count,'\\n')\n",
    "\n",
    "    maximum_frequency_of_word = max(words_count.values())\n",
    "    \n",
    "    length = 0\n",
    "    \n",
    "    for k,v in words_count.items():\n",
    "        if v == maximum_frequency_of_word:\n",
    "            if length < len(k):\n",
    "                length = len(k)\n",
    "    \n",
    "    return length\n",
    "            \n",
    "print(\"TEST CASE- 1\")\n",
    "print(\"lenght of most frequent word : \",length_of_highest_frequency_word())  # Calling the function"
   ]
  },
  {
   "cell_type": "markdown",
   "metadata": {},
   "source": [
    "#### In the Above, we can see that 'write' and 'from' have highest frequency of 3 but word 'write' has highest length so program returned the length of 'write' which is 5"
   ]
  },
  {
   "cell_type": "code",
   "execution_count": 41,
   "metadata": {},
   "outputs": [
    {
     "name": "stdout",
     "output_type": "stream",
     "text": [
      "TEST CASE - 2\n",
      "Enter string : my name is sunny , sunny is my name\n",
      "{'my': 2, 'name': 2, 'is': 2, 'sunny': 2, ',': 1} \n",
      "\n",
      "lenght of most frequent word :  5\n"
     ]
    }
   ],
   "source": [
    "print(\"TEST CASE - 2\")\n",
    "print(\"lenght of most frequent word : \",length_of_highest_frequency_word())"
   ]
  },
  {
   "cell_type": "markdown",
   "metadata": {},
   "source": [
    "#### In the Above, we can see that many words have highest frequence which is 2 but word 'sunny' has highest length so program returned the length of 'sunny' which is 5"
   ]
  },
  {
   "cell_type": "code",
   "execution_count": 42,
   "metadata": {},
   "outputs": [
    {
     "name": "stdout",
     "output_type": "stream",
     "text": [
      "TEST CASE - 3\n",
      "Enter string : life without job is pain , no money , no food , no respect , no girlfriends , no happyness ,plz do something \n",
      "{'life': 1, 'without': 1, 'job': 1, 'is': 1, 'pain': 1, ',': 5, 'no': 5, 'money': 1, 'food': 1, 'respect': 1, 'girlfriends': 1, 'happyness': 1, ',plz': 1, 'do': 1, 'something': 1, '': 1} \n",
      "\n",
      "lenght of most frequent word :  2\n"
     ]
    }
   ],
   "source": [
    "print(\"TEST CASE - 3\")\n",
    "print(\"lenght of most frequent word : \",length_of_highest_frequency_word())"
   ]
  },
  {
   "cell_type": "markdown",
   "metadata": {},
   "source": [
    "#### In the Above, we can see that only one word which is 'no' have highest frequence which is 5 and so word 'no' has lenght of 2."
   ]
  },
  {
   "cell_type": "code",
   "execution_count": null,
   "metadata": {},
   "outputs": [],
   "source": []
  }
 ],
 "metadata": {
  "kernelspec": {
   "display_name": "Python 3",
   "language": "python",
   "name": "python3"
  },
  "language_info": {
   "codemirror_mode": {
    "name": "ipython",
    "version": 3
   },
   "file_extension": ".py",
   "mimetype": "text/x-python",
   "name": "python",
   "nbconvert_exporter": "python",
   "pygments_lexer": "ipython3",
   "version": "3.8.5"
  }
 },
 "nbformat": 4,
 "nbformat_minor": 4
}
