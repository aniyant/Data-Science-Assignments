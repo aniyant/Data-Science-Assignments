{
 "cells": [
  {
   "cell_type": "code",
   "execution_count": null,
   "metadata": {},
   "outputs": [],
   "source": [
    "Q.10) Write a program to count the number of verbs, nouns, pronouns, and adjectives in a given particular phrase or\n",
    "      paragraph, and return their respective count as a dictionary.\n",
    "\n",
    "Note -\n",
    "    1. Write code comments wherever required for code\n",
    "    2. You have to write at least 2 additional test cases in which your program will run successfully and provide\n",
    "        an explanation for the same."
   ]
  },
  {
   "cell_type": "code",
   "execution_count": 3,
   "metadata": {},
   "outputs": [
    {
     "name": "stdout",
     "output_type": "stream",
     "text": [
      "Counts for text 1:\n",
      "{'Verbs': 2, 'Nouns': 4, 'Pronouns': 0, 'Adjectives': 1}\n",
      "\n",
      "Counts for text 2:\n",
      "{'Verbs': 0, 'Nouns': 4, 'Pronouns': 1, 'Adjectives': 1}\n",
      "\n",
      "Counts for text 3:\n",
      "{'Verbs': 1, 'Nouns': 4, 'Pronouns': 0, 'Adjectives': 1}\n",
      "\n",
      "Counts for text 4:\n",
      "{'Verbs': 3, 'Nouns': 4, 'Pronouns': 2, 'Adjectives': 2}\n"
     ]
    }
   ],
   "source": [
    "# I am using nltk library for this purpose\n",
    "# Importing nltk\n",
    "import nltk\n",
    "from nltk import pos_tag\n",
    "from nltk.tokenize import word_tokenize\n",
    "\n",
    "def count_pos_tags(text):\n",
    "    # Tokenize the text into words\n",
    "    words = word_tokenize(text)\n",
    "\n",
    "    # Perform part-of-speech tagging\n",
    "    tagged_words = pos_tag(words)\n",
    "\n",
    "    # Count the number of verbs, nouns, pronouns, and adjectives\n",
    "    verb_count = 0\n",
    "    noun_count = 0\n",
    "    pronoun_count = 0\n",
    "    adjective_count = 0\n",
    "\n",
    "    for word, tag in tagged_words:\n",
    "        if tag.startswith('V'):\n",
    "            verb_count += 1\n",
    "        elif tag.startswith('N'):\n",
    "            noun_count += 1\n",
    "        elif tag == 'PRP' or tag == 'PRP$':\n",
    "            pronoun_count += 1\n",
    "        elif tag.startswith('J'):\n",
    "            adjective_count += 1\n",
    "\n",
    "    # Create a dictionary with the counts\n",
    "    pos_counts = {\n",
    "        'Verbs': verb_count,\n",
    "        'Nouns': noun_count,\n",
    "        'Pronouns': pronoun_count,\n",
    "        'Adjectives': adjective_count\n",
    "    }\n",
    "\n",
    "    return pos_counts\n",
    "\n",
    "# Test case 1\n",
    "text1 = \"Ineuron is the best platform to learn New Stack.\"\n",
    "counts1 = count_pos_tags(text1)\n",
    "print(\"Counts for text 1:\")\n",
    "print(counts1)\n",
    "print()\n",
    "\n",
    "# Test case 2\n",
    "text2 = \"Ineuron Provides affordable prices on their courses.\"\n",
    "counts2 = count_pos_tags(text2)\n",
    "print(\"Counts for text 2:\")\n",
    "print(counts2)\n",
    "print()\n",
    "\n",
    "# Additional test case 1\n",
    "text3 = \"All there mentors are full of knowledge and also really kind and supportive\"\n",
    "counts3 = count_pos_tags(text3)\n",
    "print(\"Counts for text 3:\")\n",
    "print(counts3)\n",
    "print()\n",
    "\n",
    "# Additional test case 2\n",
    "text4 = \"The only problem with the ineuron is their placement is very very very very slow.Plz do something about it.\"\n",
    "counts4 = count_pos_tags(text4)\n",
    "print(\"Counts for text 4:\")\n",
    "print(counts4)"
   ]
  },
  {
   "cell_type": "code",
   "execution_count": null,
   "metadata": {},
   "outputs": [],
   "source": []
  }
 ],
 "metadata": {
  "kernelspec": {
   "display_name": "Python 3",
   "language": "python",
   "name": "python3"
  },
  "language_info": {
   "codemirror_mode": {
    "name": "ipython",
    "version": 3
   },
   "file_extension": ".py",
   "mimetype": "text/x-python",
   "name": "python",
   "nbconvert_exporter": "python",
   "pygments_lexer": "ipython3",
   "version": "3.8.5"
  }
 },
 "nbformat": 4,
 "nbformat_minor": 4
}
