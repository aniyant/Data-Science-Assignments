{
 "cells": [
  {
   "cell_type": "code",
   "execution_count": null,
   "metadata": {},
   "outputs": [],
   "source": [
    "Q.6) Using the data from Question 3, write code to analyze the data and answer the following questions Note 1.\n",
    "    Draw plots to demonstrate the analysis for the following questions for better visualizations.\n",
    "    \n",
    "    NOTE- Write code comments wherever required for code understanding\n",
    "\n",
    "Insights to be drawn -\n",
    "    ● Get all Pokemons whose spawn rate is less than 5%\n",
    "    ● Get all Pokemons that have less than 4 weaknesses\n",
    "    ● Get all Pokemons that have no multipliers at all\n",
    "    ● Get all Pokemons that do not have more than 2 evolutions\n",
    "    ● Get all Pokemons whose spawn time is less than 300 seconds.\n",
    "    Note - spawn time format is \"05:32”, so assume “minute: second” format and perform the analysis.\n",
    "    ● Get all Pokemon who have more than two types of capabilities"
   ]
  },
  {
   "cell_type": "code",
   "execution_count": 5,
   "metadata": {},
   "outputs": [],
   "source": []
  }
 ],
 "metadata": {
  "kernelspec": {
   "display_name": "Python 3",
   "language": "python",
   "name": "python3"
  },
  "language_info": {
   "codemirror_mode": {
    "name": "ipython",
    "version": 3
   },
   "file_extension": ".py",
   "mimetype": "text/x-python",
   "name": "python",
   "nbconvert_exporter": "python",
   "pygments_lexer": "ipython3",
   "version": "3.8.5"
  }
 },
 "nbformat": 4,
 "nbformat_minor": 4
}
