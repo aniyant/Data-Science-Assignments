{
 "cells": [
  {
   "cell_type": "code",
   "execution_count": null,
   "metadata": {},
   "outputs": [],
   "source": [
    "Q.4) Write a program to download the data from the link given below and then read the data and convert the into\n",
    "    the proper structure and return it as a CSV file.\n",
    "\n",
    "Link - https://data.nasa.gov/resource/y77d-th95.json\n",
    "\n",
    "Note - Write code comments wherever needed for code understanding.\n",
    "\n",
    "Sample Data -\n",
    "\n",
    "Excepted Output Data Attributes\n",
    "    ● Name of Earth Meteorite - string id - ID of Earth\n",
    "    ● Meteorite - int nametype - string recclass - string\n",
    "    ● mass - Mass of Earth Meteorite - float year - Year at which Earth\n",
    "    ● Meteorite was hit - datetime format reclat - float recclong - float\n",
    "    ● point coordinates - list of int"
   ]
  },
  {
   "cell_type": "code",
   "execution_count": 1,
   "metadata": {},
   "outputs": [
    {
     "name": "stdout",
     "output_type": "stream",
     "text": [
      "meteorite data is saved in filename :  meteorite_data.csv\n"
     ]
    }
   ],
   "source": [
    "import requests\n",
    "import pandas as pd\n",
    "\n",
    "# Function to download the data from given link\n",
    "def download_data(url):\n",
    "    response = requests.get(url)\n",
    "    if response.status_code == 200:\n",
    "        return response.json()\n",
    "    else:\n",
    "        raise Exception(\"Failed to download data\")\n",
    "\n",
    "\n",
    "# Function to process data into structured format according to question\n",
    "def process_meteorite_data(data):\n",
    "    structured_meteorite_data = []\n",
    "    for meteorite in data:\n",
    "        meteorite_data = {\n",
    "            'name': meteorite.get('name', ''),\n",
    "            'id': meteorite.get('id', ''),\n",
    "            'nametype': meteorite.get('nametype', ''),\n",
    "            'recclass': meteorite.get('recclass', ''),\n",
    "            'mass': float(meteorite.get('mass', 0)),\n",
    "            'year': meteorite.get('year', ''),\n",
    "            'reclat': float(meteorite.get('reclat', 0)),\n",
    "            'reclong': float(meteorite.get('reclong', 0)),\n",
    "            'coordinates': [float(meteorite.get('reclong', 0)), float(meteorite.get('reclat', 0))]\n",
    "        }\n",
    "        structured_meteorite_data.append(meteorite_data)\n",
    "    return structured_meteorite_data\n",
    "\n",
    "    \n",
    "        \n",
    "# Function to save structured data into csv using pandas\n",
    "def save_into_csv(data):\n",
    "    df = pd.DataFrame(data)\n",
    "    \n",
    "    csv_filename = \"meteorite_data.csv\"\n",
    "    try:\n",
    "        df.to_csv(csv_filename,index=False)\n",
    "        print(\"meteorite data is saved in filename : \",csv_filename)\n",
    "    except Exception as e:\n",
    "        print(e)\n",
    "        \n",
    "# Url to download data\n",
    "url = \"https://data.nasa.gov/resource/y77d-th95.json\" \n",
    "\n",
    "# Calling the download funtion to download data\n",
    "data = download_data(url)   \n",
    "\n",
    "# Calling the process function to process data into structure data\n",
    "meteorite_data = process_meteorite_data(data)\n",
    "\n",
    "# Saving the data by calling the function\n",
    "save_into_csv(meteorite_data)"
   ]
  },
  {
   "cell_type": "code",
   "execution_count": null,
   "metadata": {},
   "outputs": [],
   "source": []
  }
 ],
 "metadata": {
  "kernelspec": {
   "display_name": "Python 3",
   "language": "python",
   "name": "python3"
  },
  "language_info": {
   "codemirror_mode": {
    "name": "ipython",
    "version": 3
   },
   "file_extension": ".py",
   "mimetype": "text/x-python",
   "name": "python",
   "nbconvert_exporter": "python",
   "pygments_lexer": "ipython3",
   "version": "3.8.5"
  }
 },
 "nbformat": 4,
 "nbformat_minor": 4
}
