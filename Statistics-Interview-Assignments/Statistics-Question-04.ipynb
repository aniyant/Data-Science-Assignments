{
 "cells": [
  {
   "cell_type": "code",
   "execution_count": null,
   "metadata": {},
   "outputs": [],
   "source": [
    "Q-4.) A group of 20 friends decide to play a game in which they each write a number\n",
    "    between 1 and 20 on a slip of paper and put it into a hat. They then draw one slip of paper\n",
    "    at random. What is the probability that the number on the slip of paper is a perfect square\n",
    "    (i.e., 1, 4, 9, or 16)?"
   ]
  },
  {
   "cell_type": "code",
   "execution_count": null,
   "metadata": {},
   "outputs": [],
   "source": [
    "Ans )\n",
    "\n",
    "The probability that the number on the slip of paper drawn from the hat is a perfect square can be calculated by\n",
    "dividing the number of favorable outcomes (i.e., the slips with perfect square numbers) by the total number \n",
    "of possible outcomes (i.e., all slips in the hat).\n",
    "\n",
    "Total number of possible outcomes: There are 20 slips in the hat, each containing a number between 1 and 20.\n",
    "\n",
    "Number of favorable outcomes: There are four perfect square numbers between 1 and 20, which are 1, 4, 9, and 16.\n",
    "\n",
    "Therefore, the probability of drawing a slip with a perfect square number is:\n",
    "\n",
    "    Probability = Number of favorable outcomes / Total number of possible outcomes\n",
    "    Probability = 4 / 20\n",
    "    Probability = 1 / 5\n",
    "    Probability = 0.2 or 20%\n",
    "\n",
    "So, the probability that the number on the slip of paper drawn from the hat is a perfect square is 20%.\n",
    "\n",
    "\n",
    "\n",
    "\n",
    "\n",
    "\n"
   ]
  }
 ],
 "metadata": {
  "kernelspec": {
   "display_name": "Python 3",
   "language": "python",
   "name": "python3"
  },
  "language_info": {
   "codemirror_mode": {
    "name": "ipython",
    "version": 3
   },
   "file_extension": ".py",
   "mimetype": "text/x-python",
   "name": "python",
   "nbconvert_exporter": "python",
   "pygments_lexer": "ipython3",
   "version": "3.8.5"
  }
 },
 "nbformat": 4,
 "nbformat_minor": 4
}
