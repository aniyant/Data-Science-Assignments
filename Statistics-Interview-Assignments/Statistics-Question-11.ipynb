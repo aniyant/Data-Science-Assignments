{
 "cells": [
  {
   "cell_type": "code",
   "execution_count": null,
   "metadata": {},
   "outputs": [],
   "source": [
    "Q-11.) Given the data of a feature contributing to different classes\n",
    "    \n",
    "    https://drive.google.com/file/d/1mCjtYHiX--mMUjicuaP2gH3k-SnFxt8Y/view?usp=share_\n",
    "        \n",
    "a. Check whether the distribution of all the classes are the same or not.\n",
    "b. Check for the equality of variance/\n",
    "c. Which amount LDA and QDA would perform better on this data for\n",
    "    classification and why.\n",
    "d. Check the equality of mean for between all the classes.\n"
   ]
  },
  {
   "cell_type": "code",
   "execution_count": null,
   "metadata": {},
   "outputs": [],
   "source": [
    "Ans )\n",
    "a.) To check whether the distribution of all the classes is the same or not, we can perform an analysis of \n",
    "    variance (ANOVA) test. In this case, the classes correspond to the \"Blood Pressure Before\" and \"Blood Pressure After\" \n",
    "    measurements."
   ]
  },
  {
   "cell_type": "code",
   "execution_count": null,
   "metadata": {},
   "outputs": [],
   "source": [
    "Ans )\n",
    "b.) To check for the equality of variance between the classes, we can perform a test such as \n",
    "    Levene's test or Bartlett's test. These tests assess whether the variances of the different \n",
    "    classes are statistically different."
   ]
  },
  {
   "cell_type": "code",
   "execution_count": null,
   "metadata": {},
   "outputs": [],
   "source": [
    "Ans )\n",
    "\n",
    "c.) To determine which approach, Linear Discriminant Analysis (LDA) or Quadratic Discriminant Analysis (QDA), \n",
    "    would perform better on this data for classification, we need to assess the assumptions and characteristics of the data. \n",
    "    LDA assumes that the classes have equal covariance matrices and that the data is normally distributed. \n",
    "    QDA relaxes the assumption of equal covariance matrices but still assumes the data is normally distributed. \n",
    "    We can compare the performance of LDA and QDA by assessing their classification accuracy using appropriate \n",
    "    evaluation measures, such as cross-validation or confusion matrix analysis."
   ]
  },
  {
   "cell_type": "code",
   "execution_count": null,
   "metadata": {},
   "outputs": [],
   "source": [
    "Ans )\n",
    "\n",
    "d.) To check the equality of means between all the classes, we can perform a one-way analysis of variance (ANOVA) test. \n",
    "    This test will determine if there are statistically significant differences in the mean values of \n",
    "    the \"Blood Pressure Before\" and \"Blood Pressure After\" measurements across the different classes."
   ]
  }
 ],
 "metadata": {
  "kernelspec": {
   "display_name": "Python 3",
   "language": "python",
   "name": "python3"
  },
  "language_info": {
   "codemirror_mode": {
    "name": "ipython",
    "version": 3
   },
   "file_extension": ".py",
   "mimetype": "text/x-python",
   "name": "python",
   "nbconvert_exporter": "python",
   "pygments_lexer": "ipython3",
   "version": "3.8.5"
  }
 },
 "nbformat": 4,
 "nbformat_minor": 4
}
