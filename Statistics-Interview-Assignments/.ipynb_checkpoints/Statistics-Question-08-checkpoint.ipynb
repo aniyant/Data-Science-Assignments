{
 "cells": [
  {
   "cell_type": "code",
   "execution_count": null,
   "metadata": {},
   "outputs": [],
   "source": [
    "Q-8.) The anxiety levels of 10 participants were measured before and after a new therapy.\n",
    "    The scores are not normally distributed. Use the Wilcoxon signed-rank test to test whether\n",
    "    the therapy had a significant effect on anxiety levels. The data is given below: Participant\n",
    "    Before therapy After therapy Difference"
   ]
  },
  {
   "cell_type": "raw",
   "metadata": {},
   "source": [
    "Ans )\n",
    "\n",
    "To test whether the therapy had a significant effect on anxiety levels, we can use the Wilcoxon signed-rank test. \n",
    "This test is suitable for non-normally distributed data. The data provided consists of anxiety level scores for \n",
    "10 participants before and after therapy. \n",
    "Let's assume the null hypothesis (H0) that the therapy had no significant effect on anxiety levels.\n",
    "\n",
    "The data is as follows:\n",
    "\n",
    "Participant Before therapy After therapy Difference\n",
    "1 8 6 -2\n",
    "2 7 5 -2\n",
    "3 6 4 -2\n",
    "4 9 7 -2\n",
    "5 5 3 -2\n",
    "6 4 2 -2\n",
    "7 6 3 -3\n",
    "8 8 5 -3\n",
    "9 7 4 -3\n",
    "10 5 2 -3\n",
    "\n",
    "To perform the Wilcoxon signed-rank test, we calculate the absolute differences between the before and after therapy scores and rank them. Then, we sum the ranks of the negative differences. Finally, we compare the obtained test statistic with the critical value to determine if there is a significant effect.\n",
    "\n",
    "The ranked differences are as follows:\n",
    "\n",
    "Participant Difference Absolute Difference Rank\n",
    "1 -2 2 4.5\n",
    "2 -2 2 4.5\n",
    "3 -2 2 4.5\n",
    "4 -2 2 4.5\n",
    "5 -2 2 4.5\n",
    "6 -2 2 4.5\n",
    "7 -3 3 9\n",
    "8 -3 3 9\n",
    "9 -3 3 9\n",
    "10 -3 3 9\n",
    "\n",
    "The sum of ranks for negative differences is 48.\n",
    "\n",
    "To determine if the therapy had a significant effect, we compare the obtained test statistic (sum of ranks for negative differences) with the critical value from the Wilcoxon signed-rank table. The critical value depends on the significance level (alpha) and the sample size. Let's assume alpha = 0.05.\n",
    "\n",
    "For a sample size of 10, the critical value at alpha = 0.05 is 19.\n",
    "\n",
    "Since the obtained test statistic (48) is greater than the critical value (19), we reject the null hypothesis. This suggests that the therapy had a significant effect on anxiety levels."
   ]
  }
 ],
 "metadata": {
  "kernelspec": {
   "display_name": "Python 3",
   "language": "python",
   "name": "python3"
  },
  "language_info": {
   "codemirror_mode": {
    "name": "ipython",
    "version": 3
   },
   "file_extension": ".py",
   "mimetype": "text/x-python",
   "name": "python",
   "nbconvert_exporter": "python",
   "pygments_lexer": "ipython3",
   "version": "3.8.5"
  }
 },
 "nbformat": 4,
 "nbformat_minor": 4
}
