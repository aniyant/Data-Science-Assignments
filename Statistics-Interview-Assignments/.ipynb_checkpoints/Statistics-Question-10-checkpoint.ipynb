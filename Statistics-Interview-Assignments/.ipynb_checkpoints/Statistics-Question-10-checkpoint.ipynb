{
 "cells": [
  {
   "cell_type": "code",
   "execution_count": null,
   "metadata": {},
   "outputs": [],
   "source": [
    "Q-10.) A factory produces light bulbs, and the probability of a bulb being defective is 0.05.\n",
    "        The factory produces a large batch of 500 light bulbs.\n",
    "\n",
    "a. What is the probability that exactly 20 bulbs are defective?\n",
    "b. What is the probability that at least 10 bulbs are defective?\n",
    "c. What is the probability that at max 15 bulbs are defective?\n",
    "d. On average, how many defective bulbs would you expect in a batch of 500?"
   ]
  },
  {
   "cell_type": "code",
   "execution_count": null,
   "metadata": {},
   "outputs": [],
   "source": [
    "Ans )\n",
    "\n",
    "a.) To calculate the probability that exactly 20 bulbs are defective, we can use the binomial probability formula. \n",
    "    The probability of a bulb being defective is 0.05, and we have a sample size of 500 bulbs. We want to find the \n",
    "    probability of exactly 20 defective bulbs.\n",
    "\n",
    "    The probability of getting exactly k successes (defective bulbs) in n independent trials (total bulbs) is given by \n",
    "    the binomial probability formula:\n",
    "\n",
    "        P(X = k) = C(n, k) * p^k * (1 - p)^(n - k)\n",
    "\n",
    "    where:\n",
    "        P(X = k) is the probability of getting exactly k defective bulbs,\n",
    "        C(n, k) is the number of combinations of n items taken k at a time (n choose k),\n",
    "        p is the probability of success in a single trial (probability of a bulb being defective), and\n",
    "        n is the total number of trials (total number of bulbs).\n",
    "\n",
    "        )   Using this formula, we can calculate the probability of exactly 20 defective bulbs:\n",
    "\n",
    "        P(X = 20) = C(500, 20) * (0.05)^20 * (1 - 0.05)^(500 - 20)\n",
    "        "
   ]
  },
  {
   "cell_type": "code",
   "execution_count": null,
   "metadata": {},
   "outputs": [],
   "source": [
    "Ans )\n",
    "\n",
    "b.) To calculate the probability that at least 10 bulbs are defective, we need to find the cumulative probability of 10 \n",
    "    or more defective bulbs. We can use the complement rule to calculate this probability:\n",
    "\n",
    "            P(X >= 10) = 1 - P(X < 10)\n",
    "\n",
    "    To calculate P(X < 10), we can sum up the probabilities of having 0, 1, 2, ..., 9 defective bulbs using \n",
    "    the binomial probability formula, and then subtract it from 1.\n",
    "\n",
    "            P(X >= 10) = 1 - (P(X = 0) + P(X = 1) + P(X = 2) + ... + P(X = 9))\n",
    "        "
   ]
  },
  {
   "cell_type": "code",
   "execution_count": null,
   "metadata": {},
   "outputs": [],
   "source": [
    "Ans )\n",
    "\n",
    "c.) To calculate the probability that at most 15 bulbs are defective, we can use the cumulative \n",
    "    probability of 15 or fewer defective bulbs:\n",
    "\n",
    "        P(X <= 15) = P(X = 0) + P(X = 1) + P(X = 2) + ... + P(X = 15)\n",
    "\n",
    "    We sum up the probabilities of having 0, 1, 2, ..., 15 defective bulbs."
   ]
  },
  {
   "cell_type": "code",
   "execution_count": null,
   "metadata": {},
   "outputs": [],
   "source": [
    "Ans )\n",
    "\n",
    "d.) To calculate the average number of defective bulbs expected in a batch of 500, we can use the expected \n",
    "    value of a binomial distribution. The expected value (μ) of a binomial distribution is given by:\n",
    "\n",
    "            μ = n * p\n",
    "\n",
    "    where n is the total number of trials (total number of bulbs) and p is the probability of success in a \n",
    "    single trial (probability of a bulb being defective).\n",
    "\n",
    "    For a batch of 500 bulbs, the average number of defective bulbs expected is:\n",
    "\n",
    "            μ = 500 * 0.05"
   ]
  }
 ],
 "metadata": {
  "kernelspec": {
   "display_name": "Python 3",
   "language": "python",
   "name": "python3"
  },
  "language_info": {
   "codemirror_mode": {
    "name": "ipython",
    "version": 3
   },
   "file_extension": ".py",
   "mimetype": "text/x-python",
   "name": "python",
   "nbconvert_exporter": "python",
   "pygments_lexer": "ipython3",
   "version": "3.8.5"
  }
 },
 "nbformat": 4,
 "nbformat_minor": 4
}
