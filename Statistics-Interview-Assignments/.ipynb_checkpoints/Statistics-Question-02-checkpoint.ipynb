{
 "cells": [
  {
   "cell_type": "code",
   "execution_count": null,
   "metadata": {},
   "outputs": [],
   "source": [
    "Q-2.) Consider a dataset containing the heights (in centimeters) of 1000 individuals. The\n",
    "    mean height is 170 cm with a standard deviation of 10 cm. The dataset is approximately\n",
    "    normally distributed, and its skewness is approximately zero. Based on this information,\n",
    "    answer the following questions:\n",
    "    \n",
    "    a. What percentage of individuals in the dataset have heights between 160 cm\n",
    "        and 180 cm?\n",
    "    \n",
    "    b. If we randomly select 100 individuals from the dataset, what is the probability\n",
    "        that their average height is greater than 175 cm?\n",
    "    \n",
    "    c. Assuming the dataset follows a normal distribution, what is the z-score\n",
    "        corresponding to a height of 185 cm?\n",
    "    \n",
    "    d. We know that 5% of the dataset has heights below a certain value. What is\n",
    "        the approximate height corresponding to this threshold?\n",
    "    \n",
    "    e. Calculate the coefficient of variation (CV) for the dataset.\n",
    "    \n",
    "    f. Calculate the skewness of the dataset and interpret the result.\n"
   ]
  },
  {
   "cell_type": "code",
   "execution_count": null,
   "metadata": {},
   "outputs": [],
   "source": [
    "Ans ) \n",
    "\n",
    "a.) To find the percentage of individuals with heights between 160 cm and 180 cm, we need to calculate the z-scores for both \n",
    "    heights and find the area under the normal distribution curve between these z-scores.\n",
    "\n",
    "        The z-score is calculated using the formula: \n",
    "        \n",
    "            z = (x - μ) / σ, \n",
    "        \n",
    "        where x is the value, μ is the mean, and σ is the standard deviation.\n",
    "\n",
    "        For 160 cm:\n",
    "        z1 = (160 - 170) / 10 = -1\n",
    "\n",
    "        For 180 cm:\n",
    "        z2 = (180 - 170) / 10 = 1\n",
    "\n",
    "    Using the standard normal distribution table, we can find the area under the curve between -1 and 1, \n",
    "    which represents the percentage of individuals with heights between 160 cm and 180 cm. \n",
    "    The area under the curve between -1 and 1 is approximately 0.6826 or 68.26%.\n",
    "\n",
    "    Therefore, approximately 68.26% of individuals in the dataset have heights between 160 cm and 180 cm.\n",
    "    "
   ]
  },
  {
   "cell_type": "code",
   "execution_count": null,
   "metadata": {},
   "outputs": [],
   "source": [
    "Ans )\n",
    "\n",
    "b.) The mean height of the dataset is 170 cm, and the standard deviation is 10 cm. If we randomly select 100 individuals, \n",
    "    the distribution of their average height will still be approximately normal.\n",
    "\n",
    "    The average height of the 100 randomly selected individuals will also have a mean of 170 cm. \n",
    "    However, the standard deviation of the average height will be the standard deviation of the population (10 cm) \n",
    "    divided by the square root of the sample size (√100), which is 1 cm.\n",
    "\n",
    "    To find the probability that the average height is greater than 175 cm, we need to calculate the z-score \n",
    "    for 175 cm using the new standard deviation of 1 cm:\n",
    "\n",
    "        z = (x - μ) / σ\n",
    "        z = (175 - 170) / 1 = 5\n",
    "\n",
    "    Using the standard normal distribution table, we can find the area to the right of z = 5. Since it is not a \n",
    "    standard z-score and the table usually goes up to a z-score of 3.49, the probability will be extremely close to 0.\n",
    "    \n",
    "    Therefore, the probability that the average height of 100 randomly selected individuals is greater \n",
    "    than 175 cm is extremely close to 0."
   ]
  },
  {
   "cell_type": "code",
   "execution_count": null,
   "metadata": {},
   "outputs": [],
   "source": [
    "Ans )\n",
    "c.) To find the z-score corresponding to a height of 185 cm, we can use the formula:\n",
    "\n",
    "        z = (x - μ) / σ\n",
    "\n",
    "    where x is the height (185 cm), μ is the mean height (170 cm), and σ is the standard deviation (10 cm).\n",
    "\n",
    "        z = (185 - 170) / 10 = 1.5\n",
    "\n",
    "    Therefore, the z-score corresponding to a height of 185 cm is 1.5."
   ]
  },
  {
   "cell_type": "code",
   "execution_count": null,
   "metadata": {},
   "outputs": [],
   "source": [
    "Ans )\n",
    "d.) To find the approximate height corresponding to the threshold of 5% of the dataset, we need to find the z-score \n",
    "    that corresponds to a cumulative probability of 0.05.\n",
    "\n",
    "    Looking up the z-score in the standard normal distribution table, we find that a cumulative probability \n",
    "    of 0.05 corresponds to a z-score of approximately -1.645.\n",
    "\n",
    "    Using the z-score formula and rearranging to solve for x:\n",
    "\n",
    "        z = (x - μ) / σ\n",
    "    \n",
    "    -1.645 = (x - 170) / 10\n",
    "\n",
    "    Solving for x, we have:\n",
    "\n",
    "        -16.45 = x - 170\n",
    "            x = 170 - 16.45\n",
    "            x ≈ 153.55\n",
    "\n",
    "    Therefore, the approximate height corresponding to the threshold of 5% of the dataset is around 153.55 cm.\n"
   ]
  },
  {
   "cell_type": "code",
   "execution_count": null,
   "metadata": {},
   "outputs": [],
   "source": [
    "Ans )\n",
    "\n",
    "e.) The coefficient of variation (CV) is a measure of relative variability and is calculated as the ratio of \n",
    "    the standard deviation (σ) to the mean (μ), expressed as a percentage:\n",
    "\n",
    "        CV = (σ / μ) * 100\n",
    "\n",
    "    In this case, the standard deviation is 10 cm, and the mean is 170 cm.\n",
    "\n",
    "        CV = (10 / 170) * 100 ≈ 5.88\n",
    "\n",
    "    Therefore, the coefficient of variation for the dataset is approximately 5.88%."
   ]
  },
  {
   "cell_type": "raw",
   "metadata": {},
   "source": [
    "Ans ) \n",
    "\n",
    "f.) The skewness of a dataset measures the asymmetry of its distribution. A skewness value of approximately zero indicates \n",
    "    that the dataset is approximately symmetric. In this case, the dataset's skewness is said to be approximately zero.\n",
    "\n",
    "    Interpreting this result, it means that the heights of the individuals in the dataset are distributed relatively \n",
    "    symmetrically around the mean height of 170 cm. There is no significant skew towards either higher or lower heights."
   ]
  }
 ],
 "metadata": {
  "kernelspec": {
   "display_name": "Python 3",
   "language": "python",
   "name": "python3"
  },
  "language_info": {
   "codemirror_mode": {
    "name": "ipython",
    "version": 3
   },
   "file_extension": ".py",
   "mimetype": "text/x-python",
   "name": "python",
   "nbconvert_exporter": "python",
   "pygments_lexer": "ipython3",
   "version": "3.8.5"
  }
 },
 "nbformat": 4,
 "nbformat_minor": 4
}
