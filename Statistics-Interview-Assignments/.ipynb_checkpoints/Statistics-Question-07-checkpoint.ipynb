{
 "cells": [
  {
   "cell_type": "code",
   "execution_count": null,
   "metadata": {},
   "outputs": [],
   "source": [
    "Q-7.) The equations of two lines of regression, obtained in a correlation analysis\n",
    "    between variables X and Y are as follows:\n",
    "        \n",
    "        2𝑋 + 3 − 8 = 0 ,\n",
    "        2𝑌 + 𝑋 − 5 = 0 \n",
    "        \n",
    "        The variance of 𝑋 = 4 \n",
    "\n",
    "Find the\n",
    "    a. Variance of Y\n",
    "    b. Coefficient of determination of C and Y\n",
    "    c. Standard error of estimate of X on Y and of Y on X.\n"
   ]
  },
  {
   "cell_type": "code",
   "execution_count": null,
   "metadata": {},
   "outputs": [],
   "source": [
    "Ans )\n",
    "\n",
    "a.) Since the variance of X is given as 4, the variance of Y can be calculated using the coefficient of \n",
    "    determination (R^2) as follows:\n",
    "\n",
    "        R^2 = (variance of Y) / (variance of X)\n",
    "        R^2 = (variance of Y) / 4\n",
    "\n",
    "    Given the equation 2Y + X - 5 = 0, we substitute X = 1:\n",
    "        2Y + 1 - 5 = 0\n",
    "        2Y - 4 = 0\n",
    "        2Y = 4\n",
    "        Y = 2\n",
    "\n",
    "    Now we can calculate the variance of Y using the formula:\n",
    "        R^2 = (variance of Y) / 4\n",
    "        1 = (variance of Y) / 4\n",
    "        variance of Y = 4\n",
    "\n",
    "    Therefore, the variance of Y is 4."
   ]
  },
  {
   "cell_type": "code",
   "execution_count": null,
   "metadata": {},
   "outputs": [],
   "source": [
    "Ans )\n",
    "\n",
    "b.) Coefficient of determination of X and Y:\n",
    "    The coefficient of determination (R^2) measures the proportion of the total variation in \n",
    "    the dependent variable (Y) that can be explained by the independent variable (X). It is given by:\n",
    "\n",
    "        R^2 = (explained variation) / (total variation)\n",
    "        R^2 = (variance of Y) / (variance of X)\n",
    "\n",
    "    substituting the given values:\n",
    "        R^2 = 4 / 4\n",
    "        R^2 = 1\n",
    "\n",
    "    Therefore, the coefficient of determination of X and Y is 1."
   ]
  },
  {
   "cell_type": "code",
   "execution_count": null,
   "metadata": {},
   "outputs": [],
   "source": [
    "Ans )\n",
    "\n",
    "c.) Standard error of estimate:\n",
    "    The standard error of estimate measures the average distance between the predicted values and the actual values. \n",
    "    It can be calculated as follows:\n",
    "\n",
    "        Standard error of estimate = √(1 - R^2) * (standard deviation of Y)\n",
    "\n",
    "    Given the coefficient of determination (R^2) is 1 and the variance of X is 4, \n",
    "    we can calculate the standard deviation of X as the square root of the variance of X:\n",
    "    \n",
    "    Standard deviation of X = √(variance of X)\n",
    "    Standard deviation of X = √4\n",
    "    Standard deviation of X = 2\n",
    "\n",
    "    Using the formula for the standard error of estimate:\n",
    "    \n",
    "    Standard error of estimate of X on Y = √(1 - R^2) * (standard deviation of Y)\n",
    "    Standard error of estimate of X on Y = √(1 - 1) * 2\n",
    "    Standard error of estimate of X on Y = √0 * 2\n",
    "    Standard error of estimate of X on Y = 0\n",
    "\n",
    "    Similarly, the standard error of estimate of Y on X will also be 0.\n",
    "\n",
    "    Therefore, the standard error of estimate of X on Y and Y on X is 0.\n"
   ]
  },
  {
   "cell_type": "code",
   "execution_count": null,
   "metadata": {},
   "outputs": [],
   "source": []
  }
 ],
 "metadata": {
  "kernelspec": {
   "display_name": "Python 3",
   "language": "python",
   "name": "python3"
  },
  "language_info": {
   "codemirror_mode": {
    "name": "ipython",
    "version": 3
   },
   "file_extension": ".py",
   "mimetype": "text/x-python",
   "name": "python",
   "nbconvert_exporter": "python",
   "pygments_lexer": "ipython3",
   "version": "3.8.5"
  }
 },
 "nbformat": 4,
 "nbformat_minor": 4
}
