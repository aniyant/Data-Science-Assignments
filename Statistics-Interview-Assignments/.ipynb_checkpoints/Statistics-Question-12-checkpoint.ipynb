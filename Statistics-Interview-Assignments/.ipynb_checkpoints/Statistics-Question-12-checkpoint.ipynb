{
 "cells": [
  {
   "cell_type": "code",
   "execution_count": null,
   "metadata": {},
   "outputs": [],
   "source": [
    "Q-12.) A pharmaceutical company develops a new drug and wants to compare its\n",
    "    effectiveness against a standard drug for treating a particular condition. They conduct a\n",
    "    study with two groups: Group A receives the new drug, and Group B receives the standard\n",
    "    drug. The company measures the improvement in a specific symptom for both groups after\n",
    "    a 4-week treatment period.\n",
    "\n",
    "    a. The company collects data from 30 patients in each group and calculates the\n",
    "        mean improvement score and the standard deviation of improvement for each\n",
    "        group. The mean improvement score for Group A is 2.5 with a standard\n",
    "        deviation of 0.8, while the mean improvement score for Group B is 2.2 with a\n",
    "        standard deviation of 0.6. Conduct a t-test to determine if there is a significant\n",
    "        difference in the mean improvement scores between the two groups. Use a\n",
    "        significance level of 0.05.\n",
    "    b. Based on the t-test results, state whether the null hypothesis should be\n",
    "        rejected or not. Provide a conclusion in the context of the study.\n"
   ]
  },
  {
   "cell_type": "code",
   "execution_count": null,
   "metadata": {},
   "outputs": [],
   "source": [
    "Ans )\n",
    "\n",
    "a.) To conduct a t-test to determine if there is a significant difference in the mean improvement scores \n",
    "    between the two groups, we can use a two-sample independent t-test. The null hypothesis (H0) assumes that \n",
    "    there is no significant difference between the means of the two groups, while the alternative hypothesis (Ha) \n",
    "    assumes that there is a significant difference.\n",
    "\n",
    "    Given the following information:\n",
    "\n",
    "        Group A: Mean improvement score = 2.5, Standard deviation = 0.8, Sample size = 30\n",
    "        Group B: Mean improvement score = 2.2, Standard deviation = 0.6, Sample size = 30\n",
    "    \n",
    "    We can calculate the t-statistic using the following formula:\n",
    "\n",
    "        t = (mean(A) - mean(B)) / sqrt((s(A)^2 / n(A)) + (s(B)^2 / n(B)))\n",
    "\n",
    "    where mean(A) and mean(B) are the means of Group A and Group B, s(A) and s(B) are the standard deviations of and\n",
    "    Group A and Group B, and n(A) and n(B) are the sample sizes of Group A and Group B, respectively.\n",
    "\n",
    "    Substituting the values into the formula, we get:\n",
    "\n",
    "        t = (2.5 - 2.2) / sqrt((0.8^2 / 30) + (0.6^2 / 30))"
   ]
  },
  {
   "cell_type": "code",
   "execution_count": null,
   "metadata": {},
   "outputs": [],
   "source": [
    "Ans )\n",
    "\n",
    "b.) To determine if the t-statistic is statistically significant, we compare it with the critical value from \n",
    "    the t-distribution at a significance level of 0.05 (assuming a two-tailed test). The degrees of freedom for \n",
    "    the test is (n1 + n2 - 2) = 30 + 30 - 2 = 58.\n",
    "\n",
    "    If the absolute value of the calculated t-statistic is greater than the critical value, \n",
    "    we reject the null hypothesis (H0) and conclude that there is a significant difference in \n",
    "    the mean improvement scores between the two groups. Otherwise, we fail to reject the null hypothesis.\n",
    "\n",
    "    Please note that we cannot provide the exact t-critical value without the degrees of freedom. \n",
    "    You can refer to a t-distribution table or use statistical software to find the critical value \n",
    "    and compare it with the calculated t-statistic to make a decision.\n",
    "\n",
    "    Additionally, it is essential to consider assumptions such as normality and equal variances between \n",
    "    the groups before interpreting the results of the t-test.\n",
    "    "
   ]
  }
 ],
 "metadata": {
  "kernelspec": {
   "display_name": "Python 3",
   "language": "python",
   "name": "python3"
  },
  "language_info": {
   "codemirror_mode": {
    "name": "ipython",
    "version": 3
   },
   "file_extension": ".py",
   "mimetype": "text/x-python",
   "name": "python",
   "nbconvert_exporter": "python",
   "pygments_lexer": "ipython3",
   "version": "3.8.5"
  }
 },
 "nbformat": 4,
 "nbformat_minor": 4
}
