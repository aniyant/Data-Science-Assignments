{
 "cells": [
  {
   "cell_type": "raw",
   "metadata": {},
   "source": [
    "Q-5.) A certain city has two taxi companies: Company A has 80% of the taxis and\n",
    "    Company B has 20% of the taxis. Company A's taxis have a 95% success rate for picking\n",
    "    up passengers on time, while Company B's taxis have a 90% success rate. If a randomly\n",
    "    selected taxi is late, what is the probability that it belongs to Company A?"
   ]
  },
  {
   "cell_type": "raw",
   "metadata": {},
   "source": [
    "Ans. )\n",
    "\n",
    "To calculate the probability that a randomly selected late taxi belongs to Company A, we can use Bayes' theorem.\n",
    "\n",
    "Let's define the following probabilities:\n",
    "    P(A) = Probability of selecting a taxi from Company A = 0.8\n",
    "    P(B) = Probability of selecting a taxi from Company B = 0.2\n",
    "    P(L|A) = Probability that a taxi from Company A is late = 1 - 0.95 = 0.05\n",
    "    P(L|B) = Probability that a taxi from Company B is late = 1 - 0.90 = 0.10\n",
    "\n",
    "We want to calculate P(A|L), which is the probability that a randomly selected taxi is from Company A given that it is late.\n",
    "\n",
    "According to Bayes' theorem:\n",
    "\n",
    "    P(A|L) = (P(L|A) * P(A)) / P(L)\n",
    "    \n",
    "    P(L) = Probability that a taxi is late\n",
    "    P(L) = P(L|A) * P(A) + P(L|B) * P(B)\n",
    "    P(L) = (0.05 * 0.8) + (0.10 * 0.2)\n",
    "    P(L) = 0.04 + 0.02\n",
    "    P(L) = 0.06\n",
    "\n",
    "Now we can calculate P(A|L):\n",
    "\n",
    "    P(A|L) = (P(L|A) * P(A)) / P(L)\n",
    "    P(A|L) = (0.05 * 0.8) / 0.06\n",
    "    P(A|L) = 0.04 / 0.06\n",
    "    P(A|L) ≈ 0.6667\n",
    "\n",
    "Therefore, the probability that a randomly selected late taxi belongs to Company A is approximately 0.6667 or 66.67%.\n",
    "\n"
   ]
  }
 ],
 "metadata": {
  "kernelspec": {
   "display_name": "Python 3",
   "language": "python",
   "name": "python3"
  },
  "language_info": {
   "codemirror_mode": {
    "name": "ipython",
    "version": 3
   },
   "file_extension": ".py",
   "mimetype": "text/x-python",
   "name": "python",
   "nbconvert_exporter": "python",
   "pygments_lexer": "ipython3",
   "version": "3.8.5"
  }
 },
 "nbformat": 4,
 "nbformat_minor": 4
}
