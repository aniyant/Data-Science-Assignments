{
 "cells": [
  {
   "cell_type": "code",
   "execution_count": null,
   "metadata": {},
   "outputs": [],
   "source": [
    "Q-6.) A pharmaceutical company is developing a drug that is supposed to reduce blood pressure. \n",
    "    They conduct a clinical trial with 100 patients and record their blood pressure before and after taking the drug. \n",
    "    The company wants to know if the change in blood pressure follows a normal distribution.\n",
    "\n",
    "    https://drive.google.com/file/d/1mCjtYHiX--mMUjicuaP2gH3k-SnFxt8Y/view?usp=share_"
   ]
  },
  {
   "cell_type": "code",
   "execution_count": null,
   "metadata": {},
   "outputs": [],
   "source": [
    "Ans )\n",
    "To analyze the data and determine if the change in blood pressure follows a normal distribution,\n",
    "we can perform a normality test using the Shapiro-Wilk test."
   ]
  },
  {
   "cell_type": "code",
   "execution_count": 1,
   "metadata": {},
   "outputs": [
    {
     "name": "stdout",
     "output_type": "stream",
     "text": [
      "The 'before' data does not follow a normal distribution.\n",
      "The 'after' data does not follow a normal distribution.\n"
     ]
    }
   ],
   "source": [
    "from scipy import stats\n",
    "\n",
    "# Blood Pressure Before and After data\n",
    "before_data = [130, 142, 120, 135, 148, 122, 137, 130, 142, 128, 135, 140, 132, 145, 124, 128, 136, 143, 127, 139, 135, 131, 127, 130, 142, 128, 136, 140, 132, 145, 124, 128, 136, 143, 127, 139, 135, 131, 127, 130, 142, 128, 136, 140, 132, 145, 124, 128, 136, 143, 127, 139, 135, 131, 127, 130, 142, 128, 136, 140, 132, 145, 124, 128, 136, 143, 127, 139, 135, 131, 127, 130, 142, 128, 136, 140, 132, 145, 124, 128, 136, 143, 127, 139, 135, 131, 127, 130, 142, 128, 136, 140, 132, 145, 124, 128, 136, 143, 127, 139, 135, 135, 131, 127, 130, 142, 128, 136, 140, 132, 145, 124, 128, 136, 143, 127, 139, 135, 131, 127, 130, 142, 128, 136, 140, 132, 145, 124, 128, 136, 143, 127, 139, 135, 131, 127, 130, 142, 128, 136, 140, 132, 145, 124, 128, 136, 143, 127, 139, 135, 131, 127, 130, 142, 128, 136, 140, 132, 145, 124, 128, 136, 143, 127, 139, 135, 131, 127, 130, 128, 136, 140, 132, 145, 124, 128, 136, 143, 127, 139, 135, 131, 127, 130, 142, 128, 136, 140, 132, 145, 141, 124, 128, 136, 143, 137, 127, 139, 135, 135, 131, 127, 130, 124, 128, 136, 129, 140, 135, 132, 127, 145, 141, 118, 121, 129, 137, 123, 135, 130, 124, 121, 124, 139, 123, 131, 136, 141, 118, 121, 129, 137, 123, 135, 130]\n",
    "\n",
    "after_data = [120, 135, 118, 127, 140, 118, 129, 124, 137, 125, 129, 132, 125, 136, 118, 122, 130, 139, 123, 132, 131, 126, 120, 123, 139, 122, 129, 136, 127, 140, 119, 121, 129, 137, 122, 135, 129, 124, 119, 124, 139, 123, 131, 136, 127, 141, 118, 121, 129, 137, 123, 135, 129, 124, 119, 124, 139, 123, 131, 136, 127, 141, 118, 121, 129, 137, 123, 135, 129, 124, 119, 124, 139, 123, 131, 136, 127, 141, 118, 121, 129, 137, 123, 135, 129, 124, 119, 124, 139, 123, 131, 136, 127, 141, 118, 121, 129, 137, 123, 135, 129, 124, 119, 124, 139, 123, 131, 136, 127, 141, 118, 121, 129, 137, 123, 135, 129, 124, 119, 124, 139, 123, 131, 136, 127, 141, 118, 121, 129, 137, 123, 135, 129, 124, 119, 124, 139, 123, 131, 136, 127, 141, 118, 121, 129, 137, 123, 135, 129, 124, 119, 124, 139, 123, 131, 136, 127, 141, 118, 121, 129, 137, 123, 135, 129, 124, 119, 124, 139, 123, 131, 136, 127, 141, 118, 121, 129, 137, 123, 135, 129, 130, 124, 121, 129, 136, 135, 127, 141, 118, 121, 129, 137, 123, 135, 129, 124, 121, 124, 139, 123, 131, 136, 141, 118, 121, 129, 137, 123, 135, 130]\n",
    "\n",
    "# Perform Shapiro-Wilk test on the 'before' data\n",
    "_, before_p_value = stats.shapiro(before_data)\n",
    "\n",
    "# Perform Shapiro-Wilk test on the 'after' data\n",
    "_, after_p_value = stats.shapiro(after_data)\n",
    "\n",
    "# Interpret the results\n",
    "alpha = 0.05  # Significance level\n",
    "\n",
    "if before_p_value > alpha:\n",
    "    print(\"The 'before' data follows a normal distribution.\")\n",
    "else:\n",
    "    print(\"The 'before' data does not follow a normal distribution.\")\n",
    "\n",
    "if after_p_value > alpha:\n",
    "    print(\"The 'after' data follows a normal distribution.\")\n",
    "else:\n",
    "    print(\"The 'after' data does not follow a normal distribution.\")\n"
   ]
  },
  {
   "cell_type": "code",
   "execution_count": null,
   "metadata": {},
   "outputs": [],
   "source": [
    "The Shapiro-Wilk test is a common statistical test for normality. If the p-value is greater than the chosen \n",
    "significance level (e.g., 0.05), we can conclude that the data follows a normal distribution."
   ]
  }
 ],
 "metadata": {
  "kernelspec": {
   "display_name": "Python 3",
   "language": "python",
   "name": "python3"
  },
  "language_info": {
   "codemirror_mode": {
    "name": "ipython",
    "version": 3
   },
   "file_extension": ".py",
   "mimetype": "text/x-python",
   "name": "python",
   "nbconvert_exporter": "python",
   "pygments_lexer": "ipython3",
   "version": "3.8.5"
  }
 },
 "nbformat": 4,
 "nbformat_minor": 4
}
