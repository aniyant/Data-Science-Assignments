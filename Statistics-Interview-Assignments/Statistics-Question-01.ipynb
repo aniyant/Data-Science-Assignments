{
 "cells": [
  {
   "cell_type": "code",
   "execution_count": null,
   "metadata": {},
   "outputs": [],
   "source": [
    "Q-1.) A university wants to understand the relationship between the SAT scores of its\n",
    "    applicants and their college GPA. They collect data on 500 students, including their SAT\n",
    "    scores (out of 1600) and their college GPA (on a 4.0 scale). They find that the correlation\n",
    "    coefficient between SAT scores and college GPA is 0.7. What does this correlation\n",
    "    coefficient indicate about the relationship between SAT scores and college GPA?\n"
   ]
  },
  {
   "cell_type": "raw",
   "metadata": {},
   "source": [
    "Ans.) \n",
    "The correlation coefficient of 0.7 indicates a strong positive relationship between SAT scores and college GPA.\n",
    "\n",
    "In general, a pearson correlation coefficient ranges from -1 to +1. A positive correlation coefficient indicates that as \n",
    "one variable (in this case, SAT scores) increases, the other variable (college GPA) also tends to increase. The closer \n",
    "the correlation coefficient is to +1, the stronger the positive relationship.\n",
    "\n",
    "With a correlation coefficient of 0.7, it suggests that there is a relatively strong positive relationship between \n",
    "SAT scores and college GPA. This means that students who score higher on the SAT tend to have higher college GPAs, \n",
    "and vice versa. However, it's important to note that correlation does not imply causation. While the correlation \n",
    "coefficient indicates an association between the two variables, it does not determine the direction of causality or \n",
    "any underlying factors that may contribute to the relationship."
   ]
  },
  {
   "cell_type": "code",
   "execution_count": null,
   "metadata": {},
   "outputs": [],
   "source": []
  }
 ],
 "metadata": {
  "kernelspec": {
   "display_name": "Python 3",
   "language": "python",
   "name": "python3"
  },
  "language_info": {
   "codemirror_mode": {
    "name": "ipython",
    "version": 3
   },
   "file_extension": ".py",
   "mimetype": "text/x-python",
   "name": "python",
   "nbconvert_exporter": "python",
   "pygments_lexer": "ipython3",
   "version": "3.8.5"
  }
 },
 "nbformat": 4,
 "nbformat_minor": 4
}
